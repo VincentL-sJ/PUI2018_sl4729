{
 "cells": [
  {
   "cell_type": "markdown",
   "metadata": {},
   "source": [
    "### Idea:\n",
    "##### The average trip duration of female is larger than that of female.\n",
    "### Null Hypothesis:\n",
    "##### The average trip duration of female is less or equal to that of male. Mean of Duration_female - Mean of Duration_male <= 0\n",
    "### Alternatice Hypothesis:\n",
    "##### The average trip duration of female is lower than that of male. Mean of Duration_female - Mean of Duration_male > 0\n",
    "###### I will use a significance level $\\alpha=0.05$,which means I want the probability of getting a result at least as significant as mine to be less then 5%"
   ]
  },
  {
   "cell_type": "code",
   "execution_count": 1,
   "metadata": {},
   "outputs": [
    {
     "name": "stdout",
     "output_type": "stream",
     "text": [
      "Populating the interactive namespace from numpy and matplotlib\n"
     ]
    },
    {
     "name": "stderr",
     "output_type": "stream",
     "text": [
      "/usr/local/Anaconda3-5.0.0-Linux-x86_64/envs/PUI2016_Python2/lib/python2.7/site-packages/IPython/html.py:14: ShimWarning: The `IPython.html` package has been deprecated. You should import from `notebook` instead. `IPython.html.widgets` has moved to `ipywidgets`.\n",
      "  \"`IPython.html.widgets` has moved to `ipywidgets`.\", ShimWarning)\n"
     ]
    }
   ],
   "source": [
    "from __future__  import print_function, division\n",
    "import pylab as pl\n",
    "import pandas as pd\n",
    "import numpy as np\n",
    "import os\n",
    "import seaborn as sns\n",
    "%pylab inline\n",
    "\n",
    "if os.getenv ('PUI2016') is None:\n",
    "    print (\"Must set env variable PUI2016\")\n",
    "if os.getenv ('PUIDATA') is None:\n",
    "    print (\"Must set env variable PUI2016\")\n",
    "\n",
    "import os"
   ]
  },
  {
   "cell_type": "code",
   "execution_count": 2,
   "metadata": {},
   "outputs": [],
   "source": [
    "def getCitiBikeCSV(datestring):\n",
    "    print (\"Downloading\", datestring)\n",
    "    ### First I will heck that it is not already there\n",
    "    if not os.path.isfile(os.getenv(\"PUIDATA\") + \"/\" + datestring + \"-citibike-tripdata.csv\"):\n",
    "        if os.path.isfile(datestring + \"-citibike-tripdata.csv\"):\n",
    "            # if in the current dir just move it\n",
    "            if os.system(\"mv \" + datestring + \"-citibike-tripdata.csv \" + os.getenv(\"PUIDATA\")):\n",
    "                print (\"Error moving file!, Please check!\")\n",
    "        #otherwise start looking for the zip file\n",
    "        else:\n",
    "            if not os.path.isfile(os.getenv(\"PUIDATA\") + \"/\" + datestring + \"-citibike-tripdata.zip\"):\n",
    "                if not os.path.isfile(datestring + \"-citibike-tripdata.zip\"):\n",
    "                    os.system(\"curl -O https://s3.amazonaws.com/tripdata/\" + datestring + \"-citibike-tripdata.zip\")\n",
    "                ###  To move it I use the os.system() functions to run bash commands with arguments\n",
    "                os.system(\"mv \" + datestring + \"-citibike-tripdata.zip \" + os.getenv(\"PUIDATA\"))\n",
    "            ### unzip the csv \n",
    "            os.system(\"unzip \" + os.getenv(\"PUIDATA\") + \"/\" + datestring + \"-citibike-tripdata.zip\")\n",
    "            ## NOTE: old csv citibike data had a different name structure. \n",
    "            if '2014' in datestring:\n",
    "                os.system(\"mv \" + datestring[:4] + '-' +  datestring[4:] + \n",
    "                          \"\\ -\\ Citi\\ Bike\\ trip\\ data.csv \" + datestring + \"-citibike-tripdata.csv\")\n",
    "            os.system(\"mv \" + datestring + \"-citibike-tripdata.csv \" + os.getenv(\"PUIDATA\"))\n",
    "    ### One final check:\n",
    "    if not os.path.isfile(os.getenv(\"PUIDATA\") + \"/\" + datestring + \"-citibike-tripdata.csv\"):\n",
    "        print (\"WARNING!!! something is wrong: the file is not there!\")\n",
    "\n",
    "    else:\n",
    "        print (\"file in place, you can continue\")"
   ]
  },
  {
   "cell_type": "code",
   "execution_count": 3,
   "metadata": {},
   "outputs": [
    {
     "name": "stdout",
     "output_type": "stream",
     "text": [
      "Downloading 201512\n",
      "file in place, you can continue\n"
     ]
    }
   ],
   "source": [
    "\n",
    "datestring = '201512'\n",
    "getCitiBikeCSV(datestring)"
   ]
  },
  {
   "cell_type": "code",
   "execution_count": 106,
   "metadata": {},
   "outputs": [],
   "source": [
    "df = pd.read_csv(os.getenv(\"PUIDATA\") + \"/\" + datestring + '-citibike-tripdata.csv')"
   ]
  },
  {
   "cell_type": "code",
   "execution_count": 107,
   "metadata": {},
   "outputs": [
    {
     "name": "stdout",
     "output_type": "stream",
     "text": [
      "<class 'pandas.core.frame.DataFrame'>\n",
      "RangeIndex: 1460318 entries, 0 to 1460317\n",
      "Data columns (total 15 columns):\n",
      "tripduration               1460318 non-null int64\n",
      "starttime                  1460318 non-null object\n",
      "stoptime                   1460318 non-null object\n",
      "start station id           1460318 non-null int64\n",
      "start station name         1460318 non-null object\n",
      "start station latitude     1460318 non-null float64\n",
      "start station longitude    1460318 non-null float64\n",
      "end station id             1460318 non-null int64\n",
      "end station name           1460318 non-null object\n",
      "end station latitude       1460318 non-null float64\n",
      "end station longitude      1460318 non-null float64\n",
      "bikeid                     1460318 non-null int64\n",
      "usertype                   1460318 non-null object\n",
      "birth year                 1265112 non-null float64\n",
      "gender                     1460318 non-null int64\n",
      "dtypes: float64(5), int64(5), object(5)\n",
      "memory usage: 167.1+ MB\n"
     ]
    }
   ],
   "source": [
    "df.info()"
   ]
  },
  {
   "cell_type": "code",
   "execution_count": 4,
   "metadata": {},
   "outputs": [
    {
     "data": {
      "text/html": [
       "<div>\n",
       "<table border=\"1\" class=\"dataframe\">\n",
       "  <thead>\n",
       "    <tr style=\"text-align: right;\">\n",
       "      <th></th>\n",
       "      <th>tripduration</th>\n",
       "      <th>starttime</th>\n",
       "      <th>stoptime</th>\n",
       "      <th>start station id</th>\n",
       "      <th>start station name</th>\n",
       "      <th>start station latitude</th>\n",
       "      <th>start station longitude</th>\n",
       "      <th>end station id</th>\n",
       "      <th>end station name</th>\n",
       "      <th>end station latitude</th>\n",
       "      <th>end station longitude</th>\n",
       "      <th>bikeid</th>\n",
       "      <th>usertype</th>\n",
       "      <th>birth year</th>\n",
       "      <th>gender</th>\n",
       "      <th>date</th>\n",
       "    </tr>\n",
       "  </thead>\n",
       "  <tbody>\n",
       "    <tr>\n",
       "      <th>0</th>\n",
       "      <td>475</td>\n",
       "      <td>12/1/2015 07:35:36</td>\n",
       "      <td>12/1/2015 07:43:32</td>\n",
       "      <td>72</td>\n",
       "      <td>W 52 St &amp; 11 Ave</td>\n",
       "      <td>40.767272</td>\n",
       "      <td>-73.993929</td>\n",
       "      <td>173</td>\n",
       "      <td>Broadway &amp; W 49 St</td>\n",
       "      <td>40.760647</td>\n",
       "      <td>-73.984427</td>\n",
       "      <td>22780</td>\n",
       "      <td>Subscriber</td>\n",
       "      <td>1983.0</td>\n",
       "      <td>1</td>\n",
       "      <td>2015-12-01 07:35:36</td>\n",
       "    </tr>\n",
       "    <tr>\n",
       "      <th>1</th>\n",
       "      <td>684</td>\n",
       "      <td>12/1/2015 07:38:15</td>\n",
       "      <td>12/1/2015 07:49:39</td>\n",
       "      <td>72</td>\n",
       "      <td>W 52 St &amp; 11 Ave</td>\n",
       "      <td>40.767272</td>\n",
       "      <td>-73.993929</td>\n",
       "      <td>520</td>\n",
       "      <td>W 52 St &amp; 5 Ave</td>\n",
       "      <td>40.759923</td>\n",
       "      <td>-73.976485</td>\n",
       "      <td>17787</td>\n",
       "      <td>Subscriber</td>\n",
       "      <td>1975.0</td>\n",
       "      <td>1</td>\n",
       "      <td>2015-12-01 07:38:15</td>\n",
       "    </tr>\n",
       "    <tr>\n",
       "      <th>2</th>\n",
       "      <td>1063</td>\n",
       "      <td>12/1/2015 07:44:49</td>\n",
       "      <td>12/1/2015 08:02:33</td>\n",
       "      <td>72</td>\n",
       "      <td>W 52 St &amp; 11 Ave</td>\n",
       "      <td>40.767272</td>\n",
       "      <td>-73.993929</td>\n",
       "      <td>358</td>\n",
       "      <td>Christopher St &amp; Greenwich St</td>\n",
       "      <td>40.732916</td>\n",
       "      <td>-74.007114</td>\n",
       "      <td>18797</td>\n",
       "      <td>Subscriber</td>\n",
       "      <td>1966.0</td>\n",
       "      <td>1</td>\n",
       "      <td>2015-12-01 07:44:49</td>\n",
       "    </tr>\n",
       "    <tr>\n",
       "      <th>3</th>\n",
       "      <td>1075</td>\n",
       "      <td>12/1/2015 08:02:29</td>\n",
       "      <td>12/1/2015 08:20:24</td>\n",
       "      <td>72</td>\n",
       "      <td>W 52 St &amp; 11 Ave</td>\n",
       "      <td>40.767272</td>\n",
       "      <td>-73.993929</td>\n",
       "      <td>505</td>\n",
       "      <td>6 Ave &amp; W 33 St</td>\n",
       "      <td>40.749013</td>\n",
       "      <td>-73.988484</td>\n",
       "      <td>14625</td>\n",
       "      <td>Subscriber</td>\n",
       "      <td>1985.0</td>\n",
       "      <td>1</td>\n",
       "      <td>2015-12-01 08:02:29</td>\n",
       "    </tr>\n",
       "    <tr>\n",
       "      <th>4</th>\n",
       "      <td>293</td>\n",
       "      <td>12/1/2015 08:06:37</td>\n",
       "      <td>12/1/2015 08:11:30</td>\n",
       "      <td>72</td>\n",
       "      <td>W 52 St &amp; 11 Ave</td>\n",
       "      <td>40.767272</td>\n",
       "      <td>-73.993929</td>\n",
       "      <td>525</td>\n",
       "      <td>W 34 St &amp; 11 Ave</td>\n",
       "      <td>40.755942</td>\n",
       "      <td>-74.002116</td>\n",
       "      <td>21238</td>\n",
       "      <td>Subscriber</td>\n",
       "      <td>1968.0</td>\n",
       "      <td>1</td>\n",
       "      <td>2015-12-01 08:06:37</td>\n",
       "    </tr>\n",
       "  </tbody>\n",
       "</table>\n",
       "</div>"
      ],
      "text/plain": [
       "   tripduration           starttime            stoptime  start station id  \\\n",
       "0           475  12/1/2015 07:35:36  12/1/2015 07:43:32                72   \n",
       "1           684  12/1/2015 07:38:15  12/1/2015 07:49:39                72   \n",
       "2          1063  12/1/2015 07:44:49  12/1/2015 08:02:33                72   \n",
       "3          1075  12/1/2015 08:02:29  12/1/2015 08:20:24                72   \n",
       "4           293  12/1/2015 08:06:37  12/1/2015 08:11:30                72   \n",
       "\n",
       "  start station name  start station latitude  start station longitude  \\\n",
       "0   W 52 St & 11 Ave               40.767272               -73.993929   \n",
       "1   W 52 St & 11 Ave               40.767272               -73.993929   \n",
       "2   W 52 St & 11 Ave               40.767272               -73.993929   \n",
       "3   W 52 St & 11 Ave               40.767272               -73.993929   \n",
       "4   W 52 St & 11 Ave               40.767272               -73.993929   \n",
       "\n",
       "   end station id               end station name  end station latitude  \\\n",
       "0             173             Broadway & W 49 St             40.760647   \n",
       "1             520                W 52 St & 5 Ave             40.759923   \n",
       "2             358  Christopher St & Greenwich St             40.732916   \n",
       "3             505                6 Ave & W 33 St             40.749013   \n",
       "4             525               W 34 St & 11 Ave             40.755942   \n",
       "\n",
       "   end station longitude  bikeid    usertype  birth year  gender  \\\n",
       "0             -73.984427   22780  Subscriber      1983.0       1   \n",
       "1             -73.976485   17787  Subscriber      1975.0       1   \n",
       "2             -74.007114   18797  Subscriber      1966.0       1   \n",
       "3             -73.988484   14625  Subscriber      1985.0       1   \n",
       "4             -74.002116   21238  Subscriber      1968.0       1   \n",
       "\n",
       "                 date  \n",
       "0 2015-12-01 07:35:36  \n",
       "1 2015-12-01 07:38:15  \n",
       "2 2015-12-01 07:44:49  \n",
       "3 2015-12-01 08:02:29  \n",
       "4 2015-12-01 08:06:37  "
      ]
     },
     "execution_count": 4,
     "metadata": {},
     "output_type": "execute_result"
    }
   ],
   "source": [
    "df = pd.read_csv(os.getenv(\"PUIDATA\") + \"/\" + datestring + '-citibike-tripdata.csv')\n",
    "# df is the dataframe where the content of the csv file is stored\n",
    "df['date'] = pd.to_datetime(df['starttime'])\n",
    "# note that with dataframes I can refer to variables as dictionary keys, \n",
    "# i.e. df['starttime'] or as attributes: df.starttime. \n",
    "df.head()"
   ]
  },
  {
   "cell_type": "code",
   "execution_count": 5,
   "metadata": {},
   "outputs": [
    {
     "data": {
      "text/plain": [
       "Index([u'tripduration', u'starttime', u'stoptime', u'start station id',\n",
       "       u'start station name', u'start station latitude',\n",
       "       u'start station longitude', u'end station id', u'end station name',\n",
       "       u'end station latitude', u'end station longitude', u'bikeid',\n",
       "       u'usertype', u'birth year', u'gender', u'date'],\n",
       "      dtype='object')"
      ]
     },
     "execution_count": 5,
     "metadata": {},
     "output_type": "execute_result"
    }
   ],
   "source": [
    "df.columns"
   ]
  },
  {
   "cell_type": "code",
   "execution_count": 6,
   "metadata": {},
   "outputs": [],
   "source": [
    "df.drop(['starttime', 'stoptime', 'start station id',\n",
    "       'start station name', 'start station latitude',\n",
    "       'start station longitude', 'end station id', 'end station name',\n",
    "       'end station latitude', 'end station longitude', 'bikeid', 'usertype',\n",
    "       'birth year'], axis=1, inplace=True)"
   ]
  },
  {
   "cell_type": "code",
   "execution_count": 7,
   "metadata": {},
   "outputs": [
    {
     "data": {
      "text/html": [
       "<div>\n",
       "<table border=\"1\" class=\"dataframe\">\n",
       "  <thead>\n",
       "    <tr style=\"text-align: right;\">\n",
       "      <th></th>\n",
       "      <th>tripduration</th>\n",
       "      <th>gender</th>\n",
       "      <th>date</th>\n",
       "    </tr>\n",
       "  </thead>\n",
       "  <tbody>\n",
       "    <tr>\n",
       "      <th>0</th>\n",
       "      <td>475</td>\n",
       "      <td>1</td>\n",
       "      <td>2015-12-01 07:35:36</td>\n",
       "    </tr>\n",
       "    <tr>\n",
       "      <th>1</th>\n",
       "      <td>684</td>\n",
       "      <td>1</td>\n",
       "      <td>2015-12-01 07:38:15</td>\n",
       "    </tr>\n",
       "    <tr>\n",
       "      <th>2</th>\n",
       "      <td>1063</td>\n",
       "      <td>1</td>\n",
       "      <td>2015-12-01 07:44:49</td>\n",
       "    </tr>\n",
       "    <tr>\n",
       "      <th>3</th>\n",
       "      <td>1075</td>\n",
       "      <td>1</td>\n",
       "      <td>2015-12-01 08:02:29</td>\n",
       "    </tr>\n",
       "    <tr>\n",
       "      <th>4</th>\n",
       "      <td>293</td>\n",
       "      <td>1</td>\n",
       "      <td>2015-12-01 08:06:37</td>\n",
       "    </tr>\n",
       "  </tbody>\n",
       "</table>\n",
       "</div>"
      ],
      "text/plain": [
       "   tripduration  gender                date\n",
       "0           475       1 2015-12-01 07:35:36\n",
       "1           684       1 2015-12-01 07:38:15\n",
       "2          1063       1 2015-12-01 07:44:49\n",
       "3          1075       1 2015-12-01 08:02:29\n",
       "4           293       1 2015-12-01 08:06:37"
      ]
     },
     "execution_count": 7,
     "metadata": {},
     "output_type": "execute_result"
    }
   ],
   "source": [
    "df.head()"
   ]
  },
  {
   "cell_type": "code",
   "execution_count": 8,
   "metadata": {
    "scrolled": false
   },
   "outputs": [
    {
     "data": {
      "text/plain": [
       "<matplotlib.legend.Legend at 0x7f831b65c3d0>"
      ]
     },
     "execution_count": 8,
     "metadata": {},
     "output_type": "execute_result"
    },
    {
     "name": "stderr",
     "output_type": "stream",
     "text": [
      "/usr/local/Anaconda3-5.0.0-Linux-x86_64/envs/PUI2016_Python2/lib/python2.7/site-packages/matplotlib/font_manager.py:1297: UserWarning: findfont: Font family [u'sans-serif'] not found. Falling back to DejaVu Sans\n",
      "  (prop.get_family(), self.defaultFamily[fontext]))\n"
     ]
    },
    {
     "data": {
      "image/png": "[encoded data removed]",
      "text/plain": [
       "<matplotlib.figure.Figure at 0x7f831b64fcd0>"
      ]
     },
     "metadata": {},
     "output_type": "display_data"
    }
   ],
   "source": [
    "fig = pl.figure(figsize(15,15))\n",
    "\n",
    "#instad of plotting with matplotlib i.e. plot() i use the plot method in pandas\n",
    "norm_w = 1\n",
    "((df['tripduration'][df['gender'] == 2].groupby([df['date'].dt.weekday]).agg(np.mean)) / norm_w).plot(kind=\"bar\",color='IndianRed',label='female')\n",
    "\n",
    "norm_m = 1\n",
    "ax = ((df['tripduration'][df['gender'] == 1].groupby([df['date'].dt.weekday]).agg(np.mean)) / norm_m).plot(kind=\"bar\",color='SteelBlue',alpha=0.5,label='male')\n",
    "\n",
    "tmp = ax.xaxis.set_ticklabels(['Mon', 'Tue', 'Wed', 'Thu', 'Fri', 'Sat', 'Sun'], fontsize=20)\n",
    "ax.set_ylabel (\"Duration of rides\")\n",
    "ax.set_xlabel (\"Day of the week\")\n",
    "pl.legend()"
   ]
  },
  {
   "cell_type": "markdown",
   "metadata": {},
   "source": [
    "Figure 1: This figure displays the mean of Citibike trip duration of female and male bikers in each of the week day in December 2015."
   ]
  },
  {
   "cell_type": "code",
   "execution_count": 9,
   "metadata": {},
   "outputs": [
    {
     "data": {
      "text/plain": [
       "<matplotlib.legend.Legend at 0x7f8318c44cd0>"
      ]
     },
     "execution_count": 9,
     "metadata": {},
     "output_type": "execute_result"
    },
    {
     "data": {
      "image/png": "[encoded data removed]",
      "text/plain": [
       "<matplotlib.figure.Figure at 0x7f8318c90b10>"
      ]
     },
     "metadata": {},
     "output_type": "display_data"
    }
   ],
   "source": [
    "fig=pl.figure(figsize(15,10))\n",
    "\n",
    "mean_w = df.tripduration[df.gender == 2].groupby([df.date.dt.weekday]).agg(np.mean)\n",
    "norm_w = 1\n",
    "error_w = np.sqrt(mean_w)\n",
    "ax=((mean_w) / norm_w).plot(kind=\"bar\",color='IndianRed',  yerr=[\n",
    "            ((error_w) / norm_w, (error_w) / norm_w)], label='women bikers')\n",
    "\n",
    "\n",
    "mean_m = df.tripduration[df.gender==1].groupby([df.date.dt.weekday]).agg(np.mean)\n",
    "norm_m = 1\n",
    "error_m=np.sqrt(mean_m)\n",
    "((mean_m) / norm_m).plot(kind=\"bar\", alpha=0.5, yerr=[((error_m) / norm_m, (error_m) / norm_m)], \n",
    "                           color='SteelBlue', label='men bikers')\n",
    "ax.xaxis.set_ticklabels(['Mon','Tue','Wed','Thu','Fri','Sat','Sun'], fontsize=20)\n",
    "ax.set_ylabel (\"Duration of rides\")\n",
    "ax.set_xlabel (\"Day of the week\")\n",
    "pl.legend(['women bikers','men bikers'],fontsize=20)"
   ]
  },
  {
   "cell_type": "markdown",
   "metadata": {},
   "source": [
    "Figure 2: This figure displays the mean of Citibike trip duration of female and male bikers in each of the week day in December 2015 with the statistical error."
   ]
  },
  {
   "cell_type": "code",
   "execution_count": 10,
   "metadata": {},
   "outputs": [
    {
     "data": {
      "text/plain": [
       "<matplotlib.legend.Legend at 0x7f831b64fc10>"
      ]
     },
     "execution_count": 10,
     "metadata": {},
     "output_type": "execute_result"
    },
    {
     "data": {
      "image/png": "[encoded data removed]",
      "text/plain": [
       "<matplotlib.figure.Figure at 0x7f831b64fd90>"
      ]
     },
     "metadata": {},
     "output_type": "display_data"
    }
   ],
   "source": [
    "fig = pl.figure(figsize(15,10))\n",
    "\n",
    "norm_w = mean_w.sum()\n",
    "error_w = np.sqrt(mean_w)\n",
    "((mean_w) / norm_w).plot(kind=\"bar\", color='IndianRed',  \n",
    "                           yerr=[((error_w) / norm_w, (error_w) / norm_w)], \n",
    "                           label='women bikers')\n",
    "\n",
    "norm_m = mean_m.sum()\n",
    "ax = ((mean_m) / norm_m).plot(kind=\"bar\", alpha=0.5, \n",
    "                                yerr=[((error_m) / norm_m, (error_m) / norm_m)], \n",
    "                                color='SteelBlue', label='men bikers')\n",
    "\n",
    "ax.xaxis.set_ticklabels(['Mon', 'Tue', 'Wed', 'Thu', 'Fri', 'Sat', 'Sun'], fontsize=20)\n",
    "ax.set_ylabel (\"Fraction of duration\")\n",
    "ax.set_xlabel (\"Day of the week\")\n",
    "\n",
    "pl.legend(['women bikers','men bikers'],fontsize=20)"
   ]
  },
  {
   "cell_type": "markdown",
   "metadata": {},
   "source": [
    "Distribution of Citibike trip duration by gender in December 2015, normalized"
   ]
  },
  {
   "cell_type": "code",
   "execution_count": 11,
   "metadata": {},
   "outputs": [
    {
     "data": {
      "text/plain": [
       "<matplotlib.legend.Legend at 0x7f8318c7f650>"
      ]
     },
     "execution_count": 11,
     "metadata": {},
     "output_type": "execute_result"
    },
    {
     "data": {
      "image/png": "[encoded data removed]",
      "text/plain": [
       "<matplotlib.figure.Figure at 0x7f8318a78190>"
      ]
     },
     "metadata": {},
     "output_type": "display_data"
    }
   ],
   "source": [
    "fig = pl.figure(figsize(15,10))\n",
    "\n",
    "norm_w = mean_w.sum()\n",
    "error_w = np.sqrt(mean_w)\n",
    "((mean_w) / norm_w).plot(kind=\"line\", color='IndianRed',  \n",
    "                           yerr=[((error_w) / norm_w, (error_w) / norm_w)], \n",
    "                           label='women bikers')\n",
    "\n",
    "norm_m = mean_m.sum()\n",
    "ax = ((mean_m) / norm_m).plot(kind=\"line\", alpha=0.5, \n",
    "                                yerr=[((error_m) / norm_m, (error_m) / norm_m)], \n",
    "                                color='SteelBlue', label='men bikers')\n",
    "\n",
    "ax.xaxis.set_ticklabels(['Mon', 'Tue', 'Wed', 'Thu', 'Fri', 'Sat', 'Sun'], fontsize=20)\n",
    "ax.set_ylabel (\"Fraction of duration\")\n",
    "ax.set_xlabel (\"Day of the week\")\n",
    "\n",
    "pl.legend(['women bikers','men bikers'],fontsize=20)"
   ]
  },
  {
   "cell_type": "markdown",
   "metadata": {},
   "source": [
    "# T-Test for Differences in Two Sample Means\n",
    "The idea was to compare the mean of two samples, and we can understand male and females are different populations, so I decide to use the 2 groups unpaired t test."
   ]
  },
  {
   "cell_type": "code",
   "execution_count": 105,
   "metadata": {},
   "outputs": [
    {
     "data": {
      "text/html": [
       "<div>\n",
       "<table border=\"1\" class=\"dataframe\">\n",
       "  <thead>\n",
       "    <tr style=\"text-align: right;\">\n",
       "      <th></th>\n",
       "      <th>tripduration</th>\n",
       "      <th>gender</th>\n",
       "    </tr>\n",
       "  </thead>\n",
       "  <tbody>\n",
       "    <tr>\n",
       "      <th>0</th>\n",
       "      <td>1470</td>\n",
       "      <td>1</td>\n",
       "    </tr>\n",
       "    <tr>\n",
       "      <th>1</th>\n",
       "      <td>229</td>\n",
       "      <td>1</td>\n",
       "    </tr>\n",
       "    <tr>\n",
       "      <th>2</th>\n",
       "      <td>344</td>\n",
       "      <td>1</td>\n",
       "    </tr>\n",
       "    <tr>\n",
       "      <th>3</th>\n",
       "      <td>1120</td>\n",
       "      <td>1</td>\n",
       "    </tr>\n",
       "    <tr>\n",
       "      <th>4</th>\n",
       "      <td>229</td>\n",
       "      <td>1</td>\n",
       "    </tr>\n",
       "  </tbody>\n",
       "</table>\n",
       "</div>"
      ],
      "text/plain": [
       "   tripduration  gender\n",
       "0          1470       1\n",
       "1           229       1\n",
       "2           344       1\n",
       "3          1120       1\n",
       "4           229       1"
      ]
     },
     "execution_count": 105,
     "metadata": {},
     "output_type": "execute_result"
    }
   ],
   "source": []
  },
  {
   "cell_type": "code",
   "execution_count": 33,
   "metadata": {},
   "outputs": [],
   "source": [
    "def gender(x):\n",
    "    if x == 1:\n",
    "        return 'male'\n",
    "    if x == 2:\n",
    "        return 'female'\n",
    "df_plot = df[df['gender'] != 0].copy()"
   ]
  },
  {
   "cell_type": "code",
   "execution_count": 40,
   "metadata": {},
   "outputs": [],
   "source": [
    "df_plot['gender'] = df_plot['gender'].apply(lambda x: gender(x))    "
   ]
  },
  {
   "cell_type": "code",
   "execution_count": 43,
   "metadata": {},
   "outputs": [
    {
     "data": {
      "text/plain": [
       "<matplotlib.text.Text at 0x7f835d3a95d0>"
      ]
     },
     "execution_count": 43,
     "metadata": {},
     "output_type": "execute_result"
    },
    {
     "data": {
      "text/plain": [
       "<matplotlib.figure.Figure at 0x7f835d48ca10>"
      ]
     },
     "metadata": {},
     "output_type": "display_data"
    },
    {
     "data": {
      "image/png": "[encoded data removed]",
      "text/plain": [
       "<matplotlib.figure.Figure at 0x7f835d3c11d0>"
      ]
     },
     "metadata": {},
     "output_type": "display_data"
    }
   ],
   "source": [
    "fig = plt.figure(figsize=(5,3))\n",
    "# df_plot = df[df['gender'] != 0]['gender']\n",
    "gender_tripduration = df_plot.groupby(['gender']).mean()\n",
    "gender_tripduration.plot(kind='bar',rot=360)\n",
    "plt.grid(b=True)\n",
    "plt.xlabel('Gender')\n",
    "plt.ylabel('Average Trip duration')\n",
    "plt.title('Average Trip duration vs. Genders')"
   ]
  },
  {
   "cell_type": "code",
   "execution_count": 49,
   "metadata": {},
   "outputs": [
    {
     "data": {
      "text/html": [
       "<div>\n",
       "<table border=\"1\" class=\"dataframe\">\n",
       "  <thead>\n",
       "    <tr style=\"text-align: right;\">\n",
       "      <th></th>\n",
       "      <th>tripduration</th>\n",
       "      <th>gender</th>\n",
       "      <th>date</th>\n",
       "    </tr>\n",
       "  </thead>\n",
       "  <tbody>\n",
       "    <tr>\n",
       "      <th>0</th>\n",
       "      <td>475</td>\n",
       "      <td>1</td>\n",
       "      <td>2015-12-01 07:35:36</td>\n",
       "    </tr>\n",
       "    <tr>\n",
       "      <th>1</th>\n",
       "      <td>684</td>\n",
       "      <td>1</td>\n",
       "      <td>2015-12-01 07:38:15</td>\n",
       "    </tr>\n",
       "    <tr>\n",
       "      <th>2</th>\n",
       "      <td>1063</td>\n",
       "      <td>1</td>\n",
       "      <td>2015-12-01 07:44:49</td>\n",
       "    </tr>\n",
       "    <tr>\n",
       "      <th>3</th>\n",
       "      <td>1075</td>\n",
       "      <td>1</td>\n",
       "      <td>2015-12-01 08:02:29</td>\n",
       "    </tr>\n",
       "    <tr>\n",
       "      <th>4</th>\n",
       "      <td>293</td>\n",
       "      <td>1</td>\n",
       "      <td>2015-12-01 08:06:37</td>\n",
       "    </tr>\n",
       "  </tbody>\n",
       "</table>\n",
       "</div>"
      ],
      "text/plain": [
       "   tripduration  gender                date\n",
       "0           475       1 2015-12-01 07:35:36\n",
       "1           684       1 2015-12-01 07:38:15\n",
       "2          1063       1 2015-12-01 07:44:49\n",
       "3          1075       1 2015-12-01 08:02:29\n",
       "4           293       1 2015-12-01 08:06:37"
      ]
     },
     "execution_count": 49,
     "metadata": {},
     "output_type": "execute_result"
    }
   ],
   "source": [
    "df.head()"
   ]
  },
  {
   "cell_type": "code",
   "execution_count": 51,
   "metadata": {},
   "outputs": [
    {
     "data": {
      "text/html": [
       "<div>\n",
       "<table border=\"1\" class=\"dataframe\">\n",
       "  <thead>\n",
       "    <tr style=\"text-align: right;\">\n",
       "      <th></th>\n",
       "      <th>tripduration</th>\n",
       "      <th>gender</th>\n",
       "    </tr>\n",
       "  </thead>\n",
       "  <tbody>\n",
       "    <tr>\n",
       "      <th>count</th>\n",
       "      <td>5.682310e+05</td>\n",
       "      <td>568231.0</td>\n",
       "    </tr>\n",
       "    <tr>\n",
       "      <th>mean</th>\n",
       "      <td>7.694283e+02</td>\n",
       "      <td>1.0</td>\n",
       "    </tr>\n",
       "    <tr>\n",
       "      <th>std</th>\n",
       "      <td>7.461665e+03</td>\n",
       "      <td>0.0</td>\n",
       "    </tr>\n",
       "    <tr>\n",
       "      <th>min</th>\n",
       "      <td>6.100000e+01</td>\n",
       "      <td>1.0</td>\n",
       "    </tr>\n",
       "    <tr>\n",
       "      <th>25%</th>\n",
       "      <td>3.320000e+02</td>\n",
       "      <td>1.0</td>\n",
       "    </tr>\n",
       "    <tr>\n",
       "      <th>50%</th>\n",
       "      <td>5.230000e+02</td>\n",
       "      <td>1.0</td>\n",
       "    </tr>\n",
       "    <tr>\n",
       "      <th>75%</th>\n",
       "      <td>8.320000e+02</td>\n",
       "      <td>1.0</td>\n",
       "    </tr>\n",
       "    <tr>\n",
       "      <th>max</th>\n",
       "      <td>2.932878e+06</td>\n",
       "      <td>1.0</td>\n",
       "    </tr>\n",
       "  </tbody>\n",
       "</table>\n",
       "</div>"
      ],
      "text/plain": [
       "       tripduration    gender\n",
       "count  5.682310e+05  568231.0\n",
       "mean   7.694283e+02       1.0\n",
       "std    7.461665e+03       0.0\n",
       "min    6.100000e+01       1.0\n",
       "25%    3.320000e+02       1.0\n",
       "50%    5.230000e+02       1.0\n",
       "75%    8.320000e+02       1.0\n",
       "max    2.932878e+06       1.0"
      ]
     },
     "execution_count": 51,
     "metadata": {},
     "output_type": "execute_result"
    }
   ],
   "source": [
    "df_male=df[df['gender']==1]\n",
    "df_male.describe()"
   ]
  },
  {
   "cell_type": "code",
   "execution_count": 55,
   "metadata": {},
   "outputs": [],
   "source": [
    "df_male = df_male[['tripduration']]"
   ]
  },
  {
   "cell_type": "code",
   "execution_count": 56,
   "metadata": {},
   "outputs": [
    {
     "data": {
      "text/html": [
       "<div>\n",
       "<table border=\"1\" class=\"dataframe\">\n",
       "  <thead>\n",
       "    <tr style=\"text-align: right;\">\n",
       "      <th></th>\n",
       "      <th>tripduration</th>\n",
       "    </tr>\n",
       "  </thead>\n",
       "  <tbody>\n",
       "    <tr>\n",
       "      <th>count</th>\n",
       "      <td>5.682310e+05</td>\n",
       "    </tr>\n",
       "    <tr>\n",
       "      <th>mean</th>\n",
       "      <td>7.694283e+02</td>\n",
       "    </tr>\n",
       "    <tr>\n",
       "      <th>std</th>\n",
       "      <td>7.461665e+03</td>\n",
       "    </tr>\n",
       "    <tr>\n",
       "      <th>min</th>\n",
       "      <td>6.100000e+01</td>\n",
       "    </tr>\n",
       "    <tr>\n",
       "      <th>25%</th>\n",
       "      <td>3.320000e+02</td>\n",
       "    </tr>\n",
       "    <tr>\n",
       "      <th>50%</th>\n",
       "      <td>5.230000e+02</td>\n",
       "    </tr>\n",
       "    <tr>\n",
       "      <th>75%</th>\n",
       "      <td>8.320000e+02</td>\n",
       "    </tr>\n",
       "    <tr>\n",
       "      <th>max</th>\n",
       "      <td>2.932878e+06</td>\n",
       "    </tr>\n",
       "  </tbody>\n",
       "</table>\n",
       "</div>"
      ],
      "text/plain": [
       "       tripduration\n",
       "count  5.682310e+05\n",
       "mean   7.694283e+02\n",
       "std    7.461665e+03\n",
       "min    6.100000e+01\n",
       "25%    3.320000e+02\n",
       "50%    5.230000e+02\n",
       "75%    8.320000e+02\n",
       "max    2.932878e+06"
      ]
     },
     "execution_count": 56,
     "metadata": {},
     "output_type": "execute_result"
    }
   ],
   "source": [
    "df_male.describe()"
   ]
  },
  {
   "cell_type": "code",
   "execution_count": 57,
   "metadata": {},
   "outputs": [
    {
     "data": {
      "text/html": [
       "<div>\n",
       "<table border=\"1\" class=\"dataframe\">\n",
       "  <thead>\n",
       "    <tr style=\"text-align: right;\">\n",
       "      <th></th>\n",
       "      <th>tripduration</th>\n",
       "    </tr>\n",
       "  </thead>\n",
       "  <tbody>\n",
       "    <tr>\n",
       "      <th>24</th>\n",
       "      <td>224</td>\n",
       "    </tr>\n",
       "    <tr>\n",
       "      <th>73</th>\n",
       "      <td>1962</td>\n",
       "    </tr>\n",
       "    <tr>\n",
       "      <th>74</th>\n",
       "      <td>2154</td>\n",
       "    </tr>\n",
       "    <tr>\n",
       "      <th>91</th>\n",
       "      <td>1597</td>\n",
       "    </tr>\n",
       "    <tr>\n",
       "      <th>128</th>\n",
       "      <td>639</td>\n",
       "    </tr>\n",
       "  </tbody>\n",
       "</table>\n",
       "</div>"
      ],
      "text/plain": [
       "     tripduration\n",
       "24            224\n",
       "73           1962\n",
       "74           2154\n",
       "91           1597\n",
       "128           639"
      ]
     },
     "execution_count": 57,
     "metadata": {},
     "output_type": "execute_result"
    }
   ],
   "source": [
    "df_female=df[df['gender']==0][['tripduration']]\n",
    "df_female.head()"
   ]
  },
  {
   "cell_type": "code",
   "execution_count": 58,
   "metadata": {},
   "outputs": [
    {
     "data": {
      "text/html": [
       "<div>\n",
       "<table border=\"1\" class=\"dataframe\">\n",
       "  <thead>\n",
       "    <tr style=\"text-align: right;\">\n",
       "      <th></th>\n",
       "      <th>tripduration</th>\n",
       "    </tr>\n",
       "  </thead>\n",
       "  <tbody>\n",
       "    <tr>\n",
       "      <th>count</th>\n",
       "      <td>6.952600e+04</td>\n",
       "    </tr>\n",
       "    <tr>\n",
       "      <th>mean</th>\n",
       "      <td>2.513296e+03</td>\n",
       "    </tr>\n",
       "    <tr>\n",
       "      <th>std</th>\n",
       "      <td>2.194155e+04</td>\n",
       "    </tr>\n",
       "    <tr>\n",
       "      <th>min</th>\n",
       "      <td>6.100000e+01</td>\n",
       "    </tr>\n",
       "    <tr>\n",
       "      <th>25%</th>\n",
       "      <td>7.610000e+02</td>\n",
       "    </tr>\n",
       "    <tr>\n",
       "      <th>50%</th>\n",
       "      <td>1.242000e+03</td>\n",
       "    </tr>\n",
       "    <tr>\n",
       "      <th>75%</th>\n",
       "      <td>1.804000e+03</td>\n",
       "    </tr>\n",
       "    <tr>\n",
       "      <th>max</th>\n",
       "      <td>2.775247e+06</td>\n",
       "    </tr>\n",
       "  </tbody>\n",
       "</table>\n",
       "</div>"
      ],
      "text/plain": [
       "       tripduration\n",
       "count  6.952600e+04\n",
       "mean   2.513296e+03\n",
       "std    2.194155e+04\n",
       "min    6.100000e+01\n",
       "25%    7.610000e+02\n",
       "50%    1.242000e+03\n",
       "75%    1.804000e+03\n",
       "max    2.775247e+06"
      ]
     },
     "execution_count": 58,
     "metadata": {},
     "output_type": "execute_result"
    }
   ],
   "source": [
    "df_female.describe()"
   ]
  },
  {
   "cell_type": "code",
   "execution_count": null,
   "metadata": {},
   "outputs": [],
   "source": []
  },
  {
   "cell_type": "code",
   "execution_count": 68,
   "metadata": {},
   "outputs": [
    {
     "name": "stdout",
     "output_type": "stream",
     "text": [
      "We need to take a look at the statistical significance before we reject the null hypothesis.\n"
     ]
    }
   ],
   "source": [
    "diff_female_male = df_female.tripduration.mean() - df_male.tripduration.mean()\n",
    "if diff_female_male <= 0:\n",
    "    print(\"We are done. Null hypothesis is true.\")\n",
    "else:\n",
    "    print(\"We need to take a look at the statistical significance before we reject the null hypothesis.\")"
   ]
  },
  {
   "cell_type": "markdown",
   "metadata": {},
   "source": [
    "# T-test"
   ]
  },
  {
   "cell_type": "code",
   "execution_count": 69,
   "metadata": {},
   "outputs": [],
   "source": [
    "from scipy import stats"
   ]
  },
  {
   "cell_type": "code",
   "execution_count": 72,
   "metadata": {},
   "outputs": [
    {
     "data": {
      "text/plain": [
       "Ttest_indResult(statistic=20.809848562537422, pvalue=6.7923715601893607e-96)"
      ]
     },
     "execution_count": 72,
     "metadata": {},
     "output_type": "execute_result"
    }
   ],
   "source": [
    "stats.ttest_ind(df_female['tripduration'], df_male['tripduration'], equal_var = False)"
   ]
  },
  {
   "cell_type": "markdown",
   "metadata": {},
   "source": [
    "### interpretion\n",
    "The T statistics for these two samples are 20.81, while the p-value is 6.7923715601893607e-96 which is actually 0 and p/2 is smaller than our significant level 0.05. The we can reject the null hypothese. The average trip duration of male is higher than than that of female.\n"
   ]
  },
  {
   "cell_type": "markdown",
   "metadata": {},
   "source": [
    "# reproduce this study using a different month to check the robostness\n",
    "###### use June 2016 to check the seasonality"
   ]
  },
  {
   "cell_type": "code",
   "execution_count": 73,
   "metadata": {},
   "outputs": [
    {
     "name": "stdout",
     "output_type": "stream",
     "text": [
      "Downloading 201606\n",
      "file in place, you can continue\n"
     ]
    }
   ],
   "source": [
    "datestring = '201606'\n",
    "getCitiBikeCSV(datestring)\n",
    "df = pd.read_csv(os.getenv(\"PUIDATA\") + \"/\" + datestring + '-citibike-tripdata.csv')"
   ]
  },
  {
   "cell_type": "code",
   "execution_count": 108,
   "metadata": {},
   "outputs": [],
   "source": [
    "df06=df = pd.read_csv(os.getenv(\"PUIDATA\") + \"/\" + datestring + '-citibike-tripdata.csv')"
   ]
  },
  {
   "cell_type": "code",
   "execution_count": 109,
   "metadata": {},
   "outputs": [
    {
     "name": "stdout",
     "output_type": "stream",
     "text": [
      "<class 'pandas.core.frame.DataFrame'>\n",
      "RangeIndex: 1460318 entries, 0 to 1460317\n",
      "Data columns (total 15 columns):\n",
      "tripduration               1460318 non-null int64\n",
      "starttime                  1460318 non-null object\n",
      "stoptime                   1460318 non-null object\n",
      "start station id           1460318 non-null int64\n",
      "start station name         1460318 non-null object\n",
      "start station latitude     1460318 non-null float64\n",
      "start station longitude    1460318 non-null float64\n",
      "end station id             1460318 non-null int64\n",
      "end station name           1460318 non-null object\n",
      "end station latitude       1460318 non-null float64\n",
      "end station longitude      1460318 non-null float64\n",
      "bikeid                     1460318 non-null int64\n",
      "usertype                   1460318 non-null object\n",
      "birth year                 1265112 non-null float64\n",
      "gender                     1460318 non-null int64\n",
      "dtypes: float64(5), int64(5), object(5)\n",
      "memory usage: 167.1+ MB\n"
     ]
    }
   ],
   "source": [
    "df06.info()"
   ]
  },
  {
   "cell_type": "code",
   "execution_count": 90,
   "metadata": {},
   "outputs": [],
   "source": [
    "df06.drop(['starttime', 'stoptime', 'start station id',\n",
    "       'start station name', 'start station latitude',\n",
    "       'start station longitude', 'end station id', 'end station name',\n",
    "       'end station latitude', 'end station longitude', 'bikeid', 'usertype',\n",
    "       'birth year'], axis=1, inplace=True)"
   ]
  },
  {
   "cell_type": "code",
   "execution_count": 91,
   "metadata": {},
   "outputs": [],
   "source": [
    "df06_plot = df06[df06['gender'] != 0].copy()"
   ]
  },
  {
   "cell_type": "code",
   "execution_count": 93,
   "metadata": {},
   "outputs": [],
   "source": [
    "df06_plot['gender'] = df06_plot['gender'].apply(lambda x: gender(x))   "
   ]
  },
  {
   "cell_type": "code",
   "execution_count": 95,
   "metadata": {},
   "outputs": [
    {
     "data": {
      "text/html": [
       "<div>\n",
       "<table border=\"1\" class=\"dataframe\">\n",
       "  <thead>\n",
       "    <tr style=\"text-align: right;\">\n",
       "      <th></th>\n",
       "      <th>tripduration</th>\n",
       "      <th>gender</th>\n",
       "    </tr>\n",
       "  </thead>\n",
       "  <tbody>\n",
       "    <tr>\n",
       "      <th>0</th>\n",
       "      <td>1470</td>\n",
       "      <td>male</td>\n",
       "    </tr>\n",
       "    <tr>\n",
       "      <th>1</th>\n",
       "      <td>229</td>\n",
       "      <td>male</td>\n",
       "    </tr>\n",
       "    <tr>\n",
       "      <th>2</th>\n",
       "      <td>344</td>\n",
       "      <td>male</td>\n",
       "    </tr>\n",
       "    <tr>\n",
       "      <th>3</th>\n",
       "      <td>1120</td>\n",
       "      <td>male</td>\n",
       "    </tr>\n",
       "    <tr>\n",
       "      <th>4</th>\n",
       "      <td>229</td>\n",
       "      <td>male</td>\n",
       "    </tr>\n",
       "  </tbody>\n",
       "</table>\n",
       "</div>"
      ],
      "text/plain": [
       "   tripduration gender\n",
       "0          1470   male\n",
       "1           229   male\n",
       "2           344   male\n",
       "3          1120   male\n",
       "4           229   male"
      ]
     },
     "execution_count": 95,
     "metadata": {},
     "output_type": "execute_result"
    }
   ],
   "source": [
    "df06_plot.head()"
   ]
  },
  {
   "cell_type": "code",
   "execution_count": 110,
   "metadata": {},
   "outputs": [
    {
     "data": {
      "text/plain": [
       "<matplotlib.text.Text at 0x7f835d2a4090>"
      ]
     },
     "execution_count": 110,
     "metadata": {},
     "output_type": "execute_result"
    },
    {
     "data": {
      "text/plain": [
       "<matplotlib.figure.Figure at 0x7f835d4cbe50>"
      ]
     },
     "metadata": {},
     "output_type": "display_data"
    },
    {
     "data": {
      "image/png": "[encoded data removed]",
      "text/plain": [
       "<matplotlib.figure.Figure at 0x7f835d4bab10>"
      ]
     },
     "metadata": {},
     "output_type": "display_data"
    }
   ],
   "source": [
    "fig = plt.figure(figsize=(8,3))\n",
    "# df_plot = df[df['gender'] != 0]['gender']\n",
    "gender_tripduration = df06_plot.groupby(['gender']).mean()\n",
    "gender_tripduration.plot(kind='bar',rot=360)\n",
    "plt.grid(b=True)\n",
    "plt.xlabel('Gender')\n",
    "plt.ylabel('Average Trip duration')\n",
    "plt.title('Average Trip duration vs. Genders')"
   ]
  },
  {
   "cell_type": "code",
   "execution_count": 97,
   "metadata": {},
   "outputs": [
    {
     "data": {
      "text/html": [
       "<div>\n",
       "<table border=\"1\" class=\"dataframe\">\n",
       "  <thead>\n",
       "    <tr style=\"text-align: right;\">\n",
       "      <th></th>\n",
       "      <th>tripduration</th>\n",
       "      <th>gender</th>\n",
       "    </tr>\n",
       "  </thead>\n",
       "  <tbody>\n",
       "    <tr>\n",
       "      <th>count</th>\n",
       "      <td>9.474640e+05</td>\n",
       "      <td>947464.0</td>\n",
       "    </tr>\n",
       "    <tr>\n",
       "      <th>mean</th>\n",
       "      <td>7.955793e+02</td>\n",
       "      <td>1.0</td>\n",
       "    </tr>\n",
       "    <tr>\n",
       "      <th>std</th>\n",
       "      <td>4.816823e+03</td>\n",
       "      <td>0.0</td>\n",
       "    </tr>\n",
       "    <tr>\n",
       "      <th>min</th>\n",
       "      <td>6.100000e+01</td>\n",
       "      <td>1.0</td>\n",
       "    </tr>\n",
       "    <tr>\n",
       "      <th>25%</th>\n",
       "      <td>3.650000e+02</td>\n",
       "      <td>1.0</td>\n",
       "    </tr>\n",
       "    <tr>\n",
       "      <th>50%</th>\n",
       "      <td>5.910000e+02</td>\n",
       "      <td>1.0</td>\n",
       "    </tr>\n",
       "    <tr>\n",
       "      <th>75%</th>\n",
       "      <td>9.720000e+02</td>\n",
       "      <td>1.0</td>\n",
       "    </tr>\n",
       "    <tr>\n",
       "      <th>max</th>\n",
       "      <td>2.167999e+06</td>\n",
       "      <td>1.0</td>\n",
       "    </tr>\n",
       "  </tbody>\n",
       "</table>\n",
       "</div>"
      ],
      "text/plain": [
       "       tripduration    gender\n",
       "count  9.474640e+05  947464.0\n",
       "mean   7.955793e+02       1.0\n",
       "std    4.816823e+03       0.0\n",
       "min    6.100000e+01       1.0\n",
       "25%    3.650000e+02       1.0\n",
       "50%    5.910000e+02       1.0\n",
       "75%    9.720000e+02       1.0\n",
       "max    2.167999e+06       1.0"
      ]
     },
     "execution_count": 97,
     "metadata": {},
     "output_type": "execute_result"
    }
   ],
   "source": [
    "df06_male=df06[df06['gender']==1]\n",
    "df06_male.describe()"
   ]
  },
  {
   "cell_type": "code",
   "execution_count": 98,
   "metadata": {},
   "outputs": [
    {
     "data": {
      "text/html": [
       "<div>\n",
       "<table border=\"1\" class=\"dataframe\">\n",
       "  <thead>\n",
       "    <tr style=\"text-align: right;\">\n",
       "      <th></th>\n",
       "      <th>tripduration</th>\n",
       "      <th>gender</th>\n",
       "    </tr>\n",
       "  </thead>\n",
       "  <tbody>\n",
       "    <tr>\n",
       "      <th>count</th>\n",
       "      <td>3.146180e+05</td>\n",
       "      <td>314618.0</td>\n",
       "    </tr>\n",
       "    <tr>\n",
       "      <th>mean</th>\n",
       "      <td>9.335393e+02</td>\n",
       "      <td>2.0</td>\n",
       "    </tr>\n",
       "    <tr>\n",
       "      <th>std</th>\n",
       "      <td>5.085720e+03</td>\n",
       "      <td>0.0</td>\n",
       "    </tr>\n",
       "    <tr>\n",
       "      <th>min</th>\n",
       "      <td>6.100000e+01</td>\n",
       "      <td>2.0</td>\n",
       "    </tr>\n",
       "    <tr>\n",
       "      <th>25%</th>\n",
       "      <td>4.340000e+02</td>\n",
       "      <td>2.0</td>\n",
       "    </tr>\n",
       "    <tr>\n",
       "      <th>50%</th>\n",
       "      <td>6.990000e+02</td>\n",
       "      <td>2.0</td>\n",
       "    </tr>\n",
       "    <tr>\n",
       "      <th>75%</th>\n",
       "      <td>1.134000e+03</td>\n",
       "      <td>2.0</td>\n",
       "    </tr>\n",
       "    <tr>\n",
       "      <th>max</th>\n",
       "      <td>1.595961e+06</td>\n",
       "      <td>2.0</td>\n",
       "    </tr>\n",
       "  </tbody>\n",
       "</table>\n",
       "</div>"
      ],
      "text/plain": [
       "       tripduration    gender\n",
       "count  3.146180e+05  314618.0\n",
       "mean   9.335393e+02       2.0\n",
       "std    5.085720e+03       0.0\n",
       "min    6.100000e+01       2.0\n",
       "25%    4.340000e+02       2.0\n",
       "50%    6.990000e+02       2.0\n",
       "75%    1.134000e+03       2.0\n",
       "max    1.595961e+06       2.0"
      ]
     },
     "execution_count": 98,
     "metadata": {},
     "output_type": "execute_result"
    }
   ],
   "source": [
    "df06_female=df06[df06['gender']==2]\n",
    "df06_female.describe()"
   ]
  },
  {
   "cell_type": "code",
   "execution_count": 101,
   "metadata": {},
   "outputs": [
    {
     "name": "stdout",
     "output_type": "stream",
     "text": [
      "We need to take a look at the statistical significance before we reject the null hypothesis.\n"
     ]
    }
   ],
   "source": [
    "diff_female_male = df06_female.tripduration.mean() - df06_male.tripduration.mean()\n",
    "if diff_female_male <= 0:\n",
    "    print(\"We are done. Null hypothesis is true.\")\n",
    "else:\n",
    "    print(\"We need to take a look at the statistical significance before we reject the null hypothesis.\")"
   ]
  },
  {
   "cell_type": "code",
   "execution_count": 102,
   "metadata": {},
   "outputs": [
    {
     "data": {
      "text/plain": [
       "Ttest_indResult(statistic=13.35598485733091, pvalue=1.1102380985476759e-40)"
      ]
     },
     "execution_count": 102,
     "metadata": {},
     "output_type": "execute_result"
    }
   ],
   "source": [
    "stats.ttest_ind(df06_female['tripduration'], df06_male['tripduration'], equal_var = False)"
   ]
  },
  {
   "cell_type": "markdown",
   "metadata": {},
   "source": [
    "### interpretion\n",
    "The T statistics for these two samples are 13.36, while the p-value is 1.1102380985476759e-40 which is actually 0 and p/2 is smaller than our significant level 0.05. The we can reject the null hypothese. The average trip duration of male is higher than than that of female."
   ]
  },
  {
   "cell_type": "code",
   "execution_count": null,
   "metadata": {},
   "outputs": [],
   "source": []
  }
 ],
 "metadata": {
  "kernelspec": {
   "display_name": "PUI2016_Python2",
   "language": "python",
   "name": "pui2016_python2"
  },
  "language_info": {
   "codemirror_mode": {
    "name": "ipython",
    "version": 2
   },
   "file_extension": ".py",
   "mimetype": "text/x-python",
   "name": "python",
   "nbconvert_exporter": "python",
   "pygments_lexer": "ipython2",
   "version": "2.7.12"
  }
 },
 "nbformat": 4,
 "nbformat_minor": 2
}
