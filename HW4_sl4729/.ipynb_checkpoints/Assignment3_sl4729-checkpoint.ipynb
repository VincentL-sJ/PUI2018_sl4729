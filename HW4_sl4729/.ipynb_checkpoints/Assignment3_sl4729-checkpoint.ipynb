{
 "cells": [
  {
   "cell_type": "markdown",
   "metadata": {},
   "source": [
    "##### Null Hypothese H0: The new bus line will not shorten the commuting time (T-new >=T-old)\n",
    "##### Alternative Hypothese H1: The new bus line will shorten the commuting time (T-new < T-old)\n",
    "###### I will use a significance level $\\alpha=0.05$,which means I want the probability of getting a result at least as significant as mine to be less then 5%"
   ]
  },
  {
   "cell_type": "code",
   "execution_count": 41,
   "metadata": {},
   "outputs": [],
   "source": [
    "import pandas as pd\n",
    "import numpy as np"
   ]
  },
  {
   "cell_type": "code",
   "execution_count": 42,
   "metadata": {},
   "outputs": [
    {
     "name": "stdout",
     "output_type": "stream",
     "text": [
      "  % Total    % Received % Xferd  Average Speed   Time    Time     Time  Current\n",
      "                                 Dload  Upload   Total   Spent    Left  Speed\n",
      "100  1179  100  1179    0     0   7738      0 --:--:-- --:--:-- --:--:--  7705\n"
     ]
    }
   ],
   "source": [
    "!curl https://raw.githubusercontent.com/fedhere/PUI2018_fb55/master/Lab4_fb55/times.txt > bus.csv"
   ]
  },
  {
   "cell_type": "code",
   "execution_count": 43,
   "metadata": {},
   "outputs": [
    {
     "data": {
      "text/plain": [
       "array([ 39.18149987,  24.74354454,  34.76797847,  39.67853394,\n",
       "        35.22111348,  34.81463989,  44.75995935,  37.28168191,\n",
       "        31.7362634 ,  38.65783556,  44.36514943,  30.0551474 ,\n",
       "        37.54905794,  43.85148796,  37.0742895 ,  31.21483552,\n",
       "        33.78725649,  39.11382212,  29.88729098,  34.51531569,\n",
       "        38.40687494,  31.76886796,  41.66846529,  37.27285264,\n",
       "        40.99624507,  25.89264901,  25.05751543,  43.12012774,\n",
       "        38.3195725 ,  31.63074792,  30.64560552,  44.8789561 ,\n",
       "        33.1941904 ,  32.43698635,  24.68062899,  30.1907087 ,\n",
       "        38.58725508,  37.47344067,  30.42999794,  37.7923096 ,\n",
       "        25.74413439,  28.4277024 ,  42.82998152,  33.05512847,\n",
       "        36.3805697 ,  31.9590414 ,  22.83445956,  36.16382871,\n",
       "        23.1512335 ,  40.08107323,  32.50225496,  36.15142039,\n",
       "        33.02163219,  43.4789448 ,  32.18994559,  27.81925657,\n",
       "        44.98639656,  43.54624268,  36.11646479,  41.1411957 ,\n",
       "        28.46263723,  36.55640982,  37.283353  ,  32.45522044,\n",
       "        17.97468027,  29.75161193,  38.57446709,  36.6347124 ,\n",
       "        35.43047859,  22.40775318,  37.69017738,  40.86252113,\n",
       "        32.57683909,  42.94852946,  40.18035864,  32.97584176,\n",
       "        29.47979522,  40.4932176 ,  36.62664308,  45.55190489,\n",
       "        40.14592421,  15.10155881,  35.28628792,  46.03622802,\n",
       "        48.56673905,  36.45655335,  39.59878094,  29.29385564,\n",
       "        27.28745473,  41.33645878,  30.32134262,  37.88289603,\n",
       "        38.29363229,  40.52669897,  31.24838906,  36.49615071,\n",
       "        43.63994035,  40.3096024 ,  43.11496699,  36.76429505])"
      ]
     },
     "execution_count": 43,
     "metadata": {},
     "output_type": "execute_result"
    }
   ],
   "source": [
    "P_mean = 36\n",
    "P_stv = 6\n",
    "size=bus.count\n",
    "np.random.normal(P_mean,P_stv,size=100)\n"
   ]
  },
  {
   "cell_type": "code",
   "execution_count": 44,
   "metadata": {},
   "outputs": [],
   "source": [
    "bus=pd.read_csv(\"bus.csv\",header=None)"
   ]
  },
  {
   "cell_type": "code",
   "execution_count": 45,
   "metadata": {},
   "outputs": [
    {
     "data": {
      "text/html": [
       "<div>\n",
       "<table border=\"1\" class=\"dataframe\">\n",
       "  <thead>\n",
       "    <tr style=\"text-align: right;\">\n",
       "      <th></th>\n",
       "      <th>0</th>\n",
       "    </tr>\n",
       "  </thead>\n",
       "  <tbody>\n",
       "    <tr>\n",
       "      <th>count</th>\n",
       "      <td>100.000000</td>\n",
       "    </tr>\n",
       "    <tr>\n",
       "      <th>mean</th>\n",
       "      <td>34.466162</td>\n",
       "    </tr>\n",
       "    <tr>\n",
       "      <th>std</th>\n",
       "      <td>7.137280</td>\n",
       "    </tr>\n",
       "    <tr>\n",
       "      <th>min</th>\n",
       "      <td>16.527267</td>\n",
       "    </tr>\n",
       "    <tr>\n",
       "      <th>25%</th>\n",
       "      <td>30.020542</td>\n",
       "    </tr>\n",
       "    <tr>\n",
       "      <th>50%</th>\n",
       "      <td>34.693057</td>\n",
       "    </tr>\n",
       "    <tr>\n",
       "      <th>75%</th>\n",
       "      <td>39.603456</td>\n",
       "    </tr>\n",
       "    <tr>\n",
       "      <th>max</th>\n",
       "      <td>48.749877</td>\n",
       "    </tr>\n",
       "  </tbody>\n",
       "</table>\n",
       "</div>"
      ],
      "text/plain": [
       "                0\n",
       "count  100.000000\n",
       "mean    34.466162\n",
       "std      7.137280\n",
       "min     16.527267\n",
       "25%     30.020542\n",
       "50%     34.693057\n",
       "75%     39.603456\n",
       "max     48.749877"
      ]
     },
     "execution_count": 45,
     "metadata": {},
     "output_type": "execute_result"
    }
   ],
   "source": [
    "bus.describe()"
   ]
  },
  {
   "cell_type": "code",
   "execution_count": 46,
   "metadata": {},
   "outputs": [],
   "source": [
    "S_mean=bus.mean()"
   ]
  },
  {
   "cell_type": "code",
   "execution_count": 47,
   "metadata": {},
   "outputs": [],
   "source": [
    "MeanDef=P_mean-S_mean\n",
    "Lower=P_stv/100**0.5\n",
    "z_score=MeanDef/Lower"
   ]
  },
  {
   "cell_type": "code",
   "execution_count": 48,
   "metadata": {},
   "outputs": [
    {
     "name": "stdout",
     "output_type": "stream",
     "text": [
      "0    2.556397\n",
      "dtype: float64\n"
     ]
    }
   ],
   "source": [
    "print(z_score)"
   ]
  },
  {
   "cell_type": "markdown",
   "metadata": {},
   "source": [
    "##### The Z-score we get is 2.56, which is larger than 1.96. It is out of the 2-sigma range, thus we can reject the null hypothese. The new bus line will shorten the commuting time"
   ]
  },
  {
   "cell_type": "code",
   "execution_count": null,
   "metadata": {},
   "outputs": [],
   "source": []
  }
 ],
 "metadata": {
  "kernelspec": {
   "display_name": "Python 2",
   "language": "python",
   "name": "python2"
  },
  "language_info": {
   "codemirror_mode": {
    "name": "ipython",
    "version": 2
   },
   "file_extension": ".py",
   "mimetype": "text/x-python",
   "name": "python",
   "nbconvert_exporter": "python",
   "pygments_lexer": "ipython2",
   "version": "2.7.15"
  }
 },
 "nbformat": 4,
 "nbformat_minor": 2
}
